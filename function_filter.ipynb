{
 "cells": [
  {
   "cell_type": "code",
   "execution_count": 7,
   "id": "d2e8e65d",
   "metadata": {},
   "outputs": [
    {
     "name": "stdout",
     "output_type": "stream",
     "text": [
      "magzhan.kairanbay@gmail.com,32\n",
      "john.see@gmail.com,42\n",
      "andrey.karpathy@gmail.com,42\n",
      "clarence.lim@gmail.com,38\n",
      "chris.brown@gmail.com,34\n",
      "justin.bieber@gmail.com,31\n"
     ]
    }
   ],
   "source": [
    "#creation a \"Users\" class and creation a \"getAge\" function which returns the age of the user, given that the current year is 2023\n",
    "class Users:\n",
    "    def __init__(self, name, surname, email, date):\n",
    "        self.name = name\n",
    "        self.surname = surname\n",
    "        self.email = email\n",
    "        self.date = date\n",
    "         \n",
    "    def getAge(self):\n",
    "        return 2023 - int(self.date)\n",
    "    \n",
    "# creation a list    \n",
    "myUsers = []\n",
    "\n",
    "# converting each line of the file into an object of class Users and storing them all in a list \"myUsers\"\n",
    "try:\n",
    "    fileName = \"users.txt\"\n",
    "    f = open(fileName)\n",
    "\n",
    "    for x in f:\n",
    "        tokens = x.split(',')\n",
    "        user = Users(tokens[1], tokens[2], tokens[3], tokens[4])\n",
    "        myUsers.append(user)\n",
    "        \n",
    "except FileNotFound:\n",
    "    print(\"the file that you would like to read is not found\")\n",
    "except:\n",
    "    print(\"some error occured\")\n",
    "# creation a \"filter\" function\n",
    "def filter(myUsers, low=30, high=50):\n",
    "    for x in myUsers:\n",
    "        if x.getAge() > low and x.getAge() < high:\n",
    "            print(x.email + \",\" + str(x.getAge()))\n",
    "    \n",
    "filter(myUsers)\n"
   ]
  },
  {
   "cell_type": "code",
   "execution_count": null,
   "id": "7ec64475",
   "metadata": {},
   "outputs": [],
   "source": []
  }
 ],
 "metadata": {
  "kernelspec": {
   "display_name": "Python 3 (ipykernel)",
   "language": "python",
   "name": "python3"
  },
  "language_info": {
   "codemirror_mode": {
    "name": "ipython",
    "version": 3
   },
   "file_extension": ".py",
   "mimetype": "text/x-python",
   "name": "python",
   "nbconvert_exporter": "python",
   "pygments_lexer": "ipython3",
   "version": "3.11.1"
  }
 },
 "nbformat": 4,
 "nbformat_minor": 5
}
